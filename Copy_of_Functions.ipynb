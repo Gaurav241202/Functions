{
  "nbformat": 4,
  "nbformat_minor": 0,
  "metadata": {
    "colab": {
      "provenance": []
    },
    "kernelspec": {
      "name": "python3",
      "display_name": "Python 3"
    },
    "language_info": {
      "name": "python"
    }
  },
  "cells": [
    {
      "cell_type": "markdown",
      "source": [
        "**Functions**"
      ],
      "metadata": {
        "id": "AE8P-lHZ--CA"
      }
    },
    {
      "cell_type": "markdown",
      "source": [
        "**Theory questions**"
      ],
      "metadata": {
        "id": "ZhR2KBzy_E4C"
      }
    },
    {
      "cell_type": "markdown",
      "source": [
        "1.  **What is the difference between a function and a method in Python ?**\n",
        "--> method is a specialized type of function that is tied to a class or its objects, while a function is a general-purpose callable that exists independently of any class."
      ],
      "metadata": {
        "id": "AGM9zVEC_Kqm"
      }
    },
    {
      "cell_type": "markdown",
      "source": [
        "2. **Explain the concept of function arguments and parameters in Python.**\n",
        "--> unction arguments and parameters are related concepts that deal with how data is passed to a function and handled within it.\n",
        "Parameters are the placeholders defined in a function’s signature. They specify the names of the data that the function will receive.\n",
        "Arguments are the actual values or data passed to a function when it is called."
      ],
      "metadata": {
        "id": "5T81j4KN_kAG"
      }
    },
    {
      "cell_type": "markdown",
      "source": [
        "3. **What are the different ways to define and call a function in Python ?**\n",
        "--> there are multiple ways to define and call functions, depending on the use case and functionality you want to implement.\n",
        "1. Standard Function-A regular function is defined using the def keyword.\n",
        "2. Using *args for Positional Arguments-Allows the function to accept any number of positional arguments.\n",
        "3. Lambda Functions-Lambda functions are single-expression, anonymous functions defined using the lambda keyword.\n",
        "4. Nested Functions-A function can be defined inside another function. The inner function is scoped to the outer function."
      ],
      "metadata": {
        "id": "Jh4O9-YMALPD"
      }
    },
    {
      "cell_type": "markdown",
      "source": [
        "4.  **What is the purpose of the `return` statement in a Python function?**\n",
        "--> The return statement in a Python function is used to send a value back to the caller of the function. It marks the end of the function's execution and specifies what value (if any) the function should provide as its result."
      ],
      "metadata": {
        "id": "Bk1VNFB3BfpW"
      }
    },
    {
      "cell_type": "markdown",
      "source": [
        "5. **What are iterators in Python and how do they differ from iterables?**\n",
        "-->  iterators and iterables are fundamental concepts used for looping and managing sequences of data. While they are closely related, they are distinct in their purpose and functionality."
      ],
      "metadata": {
        "id": "yTkLwGKvBwhP"
      }
    },
    {
      "cell_type": "markdown",
      "source": [
        "6. **Explain the concept of generators in Python and how they are defined.**\n",
        "--> generators are a special type of iterable that allows you to generate values on the fly, instead of storing them all in memory at once. They are particularly useful when dealing with large datasets or streams of data because they provide an efficient way to compute values lazily.\n",
        "\n"
      ],
      "metadata": {
        "id": "Ds5ndN3lCBBd"
      }
    },
    {
      "cell_type": "markdown",
      "source": [
        "7. **What are the advantages of using generators over regular functions?**\n",
        "--> Generators are more memory-efficient than regular functions because they yield values one at a time instead of returning all at once. They enable lazy evaluation, computing values only when needed, which reduces unnecessary work. Generators can handle infinite sequences without memory overflow, unlike regular functions. They simplify iterative code and can be easily chained for data pipelines. Generators are ideal for large datasets, streaming data, and scenarios where performance and memory conservation are critical."
      ],
      "metadata": {
        "id": "j7zqCjnEC1vw"
      }
    },
    {
      "cell_type": "markdown",
      "source": [
        "8. **What is a lambda function in Python and when is it typically used?**\n",
        "--> A lambda function in Python is a small, anonymous function defined using the lambda keyword. It can have multiple arguments but only a single expression, and it returns the result of that expression.\n",
        "syntax-\n",
        "      lambda arguments: expression\n"
      ],
      "metadata": {
        "id": "KsbzBt-_DcfA"
      }
    },
    {
      "cell_type": "code",
      "execution_count": null,
      "metadata": {
        "id": "XzWm3beV-81K",
        "colab": {
          "base_uri": "https://localhost:8080/"
        },
        "outputId": "47e3ae76-3e7a-47a0-f70d-63991fb93508"
      },
      "outputs": [
        {
          "output_type": "stream",
          "name": "stdout",
          "text": [
            "8\n"
          ]
        }
      ],
      "source": [
        "add = lambda x, y: x + y\n",
        "print(add(3, 5))\n"
      ]
    },
    {
      "cell_type": "markdown",
      "source": [
        "9. **Explain the purpose and usage of the `map()` function in Python.**\n",
        "--> The map() function in Python is used to apply a given function to each item in an iterable (like a list, tuple, or string) and return a map object, which is an iterator. It allows for the transformation of data in a concise and efficient manner."
      ],
      "metadata": {
        "id": "_toH3nDNEWCG"
      }
    },
    {
      "cell_type": "markdown",
      "source": [
        "10.  **What is the difference between `map()`, `reduce()`, and `filter()` functions in Python?**\n",
        "--> map() transforms every item in the iterable.\n",
        "filter() selects some items based on a condition.\n",
        "reduce() accumulates the result of applying a function across all items."
      ],
      "metadata": {
        "id": "Gc3d4gM8EwN-"
      }
    },
    {
      "cell_type": "markdown",
      "source": [
        "**Practical questions**"
      ],
      "metadata": {
        "id": "K9ovy5t0FJS_"
      }
    },
    {
      "cell_type": "markdown",
      "source": [
        "1. **Write a Python function that takes a list of numbers as input and returns the sum of all even numbers in the list.**"
      ],
      "metadata": {
        "id": "4uw5IqBlFR11"
      }
    },
    {
      "cell_type": "code",
      "source": [
        "def sum_of_evens(numbers):\n",
        "    return sum(filter(lambda x: x % 2 == 0, numbers))\n",
        "nums = [1, 2, 3, 4, 5, 6, 7, 8, 9, 10]\n",
        "result = sum_of_evens(nums)\n",
        "print(result)\n"
      ],
      "metadata": {
        "colab": {
          "base_uri": "https://localhost:8080/"
        },
        "id": "BMzVccc6F-Pq",
        "outputId": "1640c4d9-1a4f-4798-b34e-ac37abd83a3d"
      },
      "execution_count": null,
      "outputs": [
        {
          "output_type": "stream",
          "name": "stdout",
          "text": [
            "30\n"
          ]
        }
      ]
    },
    {
      "cell_type": "markdown",
      "source": [
        "2. **Create a Python function that accepts a string and returns the reverse of that string.**"
      ],
      "metadata": {
        "id": "NMKW2-hjGF5L"
      }
    },
    {
      "cell_type": "code",
      "source": [
        "def reverse_string(s):\n",
        "    return s[::-1]\n",
        "input_str = \"hello\"\n",
        "result = reverse_string(input_str)\n",
        "print(result)\n"
      ],
      "metadata": {
        "colab": {
          "base_uri": "https://localhost:8080/"
        },
        "id": "Rti1XxLkGf5K",
        "outputId": "f4d35d10-570f-4f77-b207-6dbdcd0cd3f7"
      },
      "execution_count": null,
      "outputs": [
        {
          "output_type": "stream",
          "name": "stdout",
          "text": [
            "olleh\n"
          ]
        }
      ]
    },
    {
      "cell_type": "markdown",
      "source": [
        "3. **Implement a Python function that takes a list of integers and returns a new list containing the squares of each number.**\n"
      ],
      "metadata": {
        "id": "-pBCTIw_GuXa"
      }
    },
    {
      "cell_type": "code",
      "source": [
        "def square_numbers(numbers):\n",
        "    return [x**2 for x in numbers]\n",
        "nums = [1, 2, 3, 4, 5]\n",
        "squared_nums = square_numbers(nums)\n",
        "print(squared_nums)\n"
      ],
      "metadata": {
        "colab": {
          "base_uri": "https://localhost:8080/"
        },
        "id": "5uEczdiZHHN2",
        "outputId": "63d59cc9-6047-48b0-df15-ef558d1b4360"
      },
      "execution_count": null,
      "outputs": [
        {
          "output_type": "stream",
          "name": "stdout",
          "text": [
            "[1, 4, 9, 16, 25]\n"
          ]
        }
      ]
    },
    {
      "cell_type": "markdown",
      "source": [
        "4. **Write a Python function that checks if a given number is prime or not from 1 to 200.**"
      ],
      "metadata": {
        "id": "jnMQdQepHZTb"
      }
    },
    {
      "cell_type": "code",
      "source": [
        "def is_prime(n):\n",
        "    if n < 2 or n > 200:\n",
        "        return False\n",
        "    for i in range(2, int(n**0.5) + 1):\n",
        "        if n % i == 0:\n",
        "            return False\n",
        "    return True\n",
        "num = 29\n",
        "print(is_prime(num))\n",
        "\n",
        "num = 200\n",
        "print(is_prime(num))\n"
      ],
      "metadata": {
        "colab": {
          "base_uri": "https://localhost:8080/"
        },
        "id": "g6mtCn2QHpk1",
        "outputId": "9e929dd3-be55-4804-ece6-3b5585c4bcc3"
      },
      "execution_count": null,
      "outputs": [
        {
          "output_type": "stream",
          "name": "stdout",
          "text": [
            "True\n",
            "False\n"
          ]
        }
      ]
    },
    {
      "cell_type": "markdown",
      "source": [
        "5.  **Create an iterator class in Python that generates the Fibonacci sequence up to a specified number of terms.**"
      ],
      "metadata": {
        "id": "2hswL7kGIG_S"
      }
    },
    {
      "cell_type": "code",
      "source": [
        "class FibonacciIterator:\n",
        "    def __init__(self, terms):\n",
        "        self.terms = terms\n",
        "        self.a, self.b = 0, 1\n",
        "        self.count = 0\n",
        "\n",
        "    def __iter__(self):\n",
        "        return self\n",
        "\n",
        "    def __next__(self):\n",
        "        if self.count >= self.terms:\n",
        "            raise StopIteration\n",
        "        self.count += 1\n",
        "        self.a, self.b = self.b, self.a + self.b\n",
        "        return self.a\n",
        "for num in FibonacciIterator(10):\n",
        "    print(num)\n"
      ],
      "metadata": {
        "colab": {
          "base_uri": "https://localhost:8080/"
        },
        "id": "u2jj6tdhISkt",
        "outputId": "755577e0-bba9-4c65-e130-109ca9838e4b"
      },
      "execution_count": null,
      "outputs": [
        {
          "output_type": "stream",
          "name": "stdout",
          "text": [
            "1\n",
            "1\n",
            "2\n",
            "3\n",
            "5\n",
            "8\n",
            "13\n",
            "21\n",
            "34\n",
            "55\n"
          ]
        }
      ]
    },
    {
      "cell_type": "markdown",
      "source": [
        "6.  **Write a generator function in Python that yields the powers of 2 up to a given exponent.**"
      ],
      "metadata": {
        "id": "RZJCFv-QI1A9"
      }
    },
    {
      "cell_type": "code",
      "source": [
        "def powers_of_2(exponent):\n",
        "    for i in range(exponent + 1):\n",
        "        yield 2 ** i\n",
        "for power in powers_of_2(5):\n",
        "    print(power)\n"
      ],
      "metadata": {
        "colab": {
          "base_uri": "https://localhost:8080/"
        },
        "id": "sluSdiA6JBus",
        "outputId": "5ddbcaa9-586f-4cc2-c0ee-f92b7b9d38d6"
      },
      "execution_count": null,
      "outputs": [
        {
          "output_type": "stream",
          "name": "stdout",
          "text": [
            "1\n",
            "2\n",
            "4\n",
            "8\n",
            "16\n",
            "32\n"
          ]
        }
      ]
    },
    {
      "cell_type": "markdown",
      "source": [
        "7.  **Implement a generator function that reads a file line by line and yields each line as a string.**"
      ],
      "metadata": {
        "id": "ORFyo5ThJNxf"
      }
    },
    {
      "cell_type": "markdown",
      "source": [
        "8. **Use a lambda function in Python to sort a list of tuples based on the second element of each tuple**\n",
        "\n"
      ],
      "metadata": {
        "id": "hYznPE4iKhgg"
      }
    },
    {
      "cell_type": "code",
      "source": [
        "tuples = [(1, 3), (4, 1), (2, 2), (5, 4)]\n",
        "\n",
        "sorted_tuples = sorted(tuples, key=lambda x: x[1])\n",
        "\n",
        "print(sorted_tuples)\n"
      ],
      "metadata": {
        "colab": {
          "base_uri": "https://localhost:8080/"
        },
        "id": "33UCZPNPKwcM",
        "outputId": "5cf7f16f-63f0-4ca8-a045-42997d86b28f"
      },
      "execution_count": null,
      "outputs": [
        {
          "output_type": "stream",
          "name": "stdout",
          "text": [
            "[(4, 1), (2, 2), (1, 3), (5, 4)]\n"
          ]
        }
      ]
    },
    {
      "cell_type": "markdown",
      "source": [
        "9. **Write a Python program that uses `map()` to convert a list of temperatures from Celsius to Fahrenheit.**"
      ],
      "metadata": {
        "id": "1Pid3BEZLBQK"
      }
    },
    {
      "cell_type": "code",
      "source": [
        "def celsius_to_fahrenheit(celsius):\n",
        "    return (celsius * 9/5) + 32\n",
        "\n",
        "# List of temperatures in Celsius\n",
        "celsius_temps = [0, 20, 25, 30, 35, 40]\n",
        "\n",
        "fahrenheit_temps = map(celsius_to_fahrenheit, celsius_temps)\n",
        "\n",
        "# Convert the map object to a list\n",
        "print(list(fahrenheit_temps))\n"
      ],
      "metadata": {
        "colab": {
          "base_uri": "https://localhost:8080/"
        },
        "id": "yVcq7yw6LJLK",
        "outputId": "ee279b02-6a21-4c09-f5d1-786be17d5759"
      },
      "execution_count": null,
      "outputs": [
        {
          "output_type": "stream",
          "name": "stdout",
          "text": [
            "[32.0, 68.0, 77.0, 86.0, 95.0, 104.0]\n"
          ]
        }
      ]
    },
    {
      "cell_type": "markdown",
      "source": [
        "10. **Create a Python program that uses `filter()` to remove all the vowels from a given string.**"
      ],
      "metadata": {
        "id": "RTNhPo20LYfV"
      }
    },
    {
      "cell_type": "code",
      "source": [
        "def remove_vowels(s):\n",
        "    vowels = \"aeiouAEIOU\"\n",
        "    return ''.join(filter(lambda x: x not in vowels, s))\n",
        "\n",
        "input_str = \"Hello World\"\n",
        "result = remove_vowels(input_str)\n",
        "print(result)\n"
      ],
      "metadata": {
        "colab": {
          "base_uri": "https://localhost:8080/"
        },
        "id": "zWCFMoWwLhDt",
        "outputId": "d7c0f12b-c7e2-46db-cf1a-a75f85c0455f"
      },
      "execution_count": null,
      "outputs": [
        {
          "output_type": "stream",
          "name": "stdout",
          "text": [
            "Hll Wrld\n"
          ]
        }
      ]
    }
  ]
}